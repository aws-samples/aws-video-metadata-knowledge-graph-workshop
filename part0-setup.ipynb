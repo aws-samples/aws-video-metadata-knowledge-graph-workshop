{
 "cells": [
  {
   "cell_type": "markdown",
   "metadata": {},
   "source": [
    "Copyright Amazon.com, Inc. or its affiliates. All Rights Reserved.\n",
    "\n",
    "SPDX-License-Identifier: MIT-0"
   ]
  },
  {
   "cell_type": "markdown",
   "metadata": {},
   "source": [
    "# Video metadata extraction and knowledge graph workshop"
   ]
  },
  {
   "cell_type": "markdown",
   "metadata": {},
   "source": [
    "# Objectives:\n",
    "This repository contains a series of 4 jupyter notebooks demonstrating how AWS AI Services like Amazon Rekognition, Amazon Transcribe and Amazon Comprehend can help you extract valuable metadata from your video assets and store that information in a Graph database like Amazon Neptune for maximum query performance and flexibility.\n",
    "At the end of the workshop you'll typically be able to search for a specific label or entity and return a list of 1min video segments related to your search across your videos.\n",
    "\n",
    "To extract metadata from a video, we'll use a the following AWS AI services:\n",
    "- Amazon Rekognition to cut the video in scenes and detect label from the video itself\n",
    "- Amazon Transcribe to convert audio into text\n",
    "- Amazon Comprehend to extract entities and topics from the transcribed text via Topic Modelling and Named Entity recognition.\n",
    "\n",
    "The metadata related to the video, segments, scenes, entities, labels will be stored in Amazon Neptune.\n",
    "Amazon Neptune is a fully managed low latency graph database service that will allow us to store metadata as nodes (aka vertices) and branches (aka edges) to represent relationships between the nodes.\n",
    "https://aws.amazon.com/neptune/\n",
    "\n",
    "The diagram below summarises the workflow:\n",
    "\n",
    "<img src=\"static/overview.png\" width=\"800\" />\n",
    "\n",
    "Topics addressed within the different notebooks:\n",
    "\n",
    "Part 0:<br>\n",
    "Create the environment (S3 bucket, IAM roles/polices, SNS topic, etc) and upload your sample video\n",
    "\n",
    "Part 1:<br>\n",
    "Use Amazon Rekognition to detect scenes and labels from your video\n",
    "\n",
    "Part 2:<br>\n",
    "Use Amazon Transcribe and Amazon Comprehend to respectively transcibe audio to text and extract metadata (topics, Named Entities) from transcripts.\n",
    "\n",
    "Part 3:<br>\n",
    "Store all the previously extracted metadata in Amazon Neptune and query the graph.\n",
    "\n",
    "Part 4:<br>\n",
    "Resources clean-up"
   ]
  },
  {
   "cell_type": "markdown",
   "metadata": {},
   "source": [
    "## Costs\n",
    "Please note that you might incur costs by running those notebooks. Most of those AI services have free tier but depending on how much you've already used or depending on the size of the video assets you're using, it might go over the limit.\n",
    "\n",
    "Finally, if you're not planning to use those resources anymore at the end of the workshop, don't forget to shutdown/delete your Amazon Neptune instance, your Sagemaker studio notebook instances and run the part4-cleanup notebook to delete all the other resources created throughout the notebooks (S3 buckets, IAM roles, SNS topics, etc).\n",
    "\n",
    "Before proceeding, please check the related services pricing pages:\n",
    "\n",
    "https://aws.amazon.com/transcribe/pricing/\n",
    "\n",
    "https://aws.amazon.com/comprehend/pricing/\n",
    "\n",
    "https://aws.amazon.com/rekognition/pricing/\n",
    "\n",
    "https://aws.amazon.com/neptune/pricing/"
   ]
  },
  {
   "cell_type": "markdown",
   "metadata": {},
   "source": [
    "# Part 0 - Environment setup - S3 Bucket creation, SNS topic and IAM role"
   ]
  },
  {
   "cell_type": "markdown",
   "metadata": {},
   "source": [
    "In the steps below we're going to create the S3 bucket where we'll upload our video, the SNS topic that some AWS services will use to publish outcomes of the jobs as well as the required policies/roles for the various AWS services to access those objects.<br>\n",
    "\n",
    "<b>Please note that you will need to provide an valid .mp4 video stored in a S3 bucket as input for this workshop. It is NOT included in the github repo assets.</b> \n",
    "\n",
    "This video will be used  for the different metadata extraction steps. We suggest you use ~5min editorial video or video trailer for which you have the required copyrights.\n",
    "\n",
    "The example we used to run the various jobs and generate the graphs is a video trailer from an Amazon Studios production."
   ]
  },
  {
   "cell_type": "code",
   "execution_count": 5,
   "metadata": {},
   "outputs": [
    {
     "name": "stdout",
     "output_type": "stream",
     "text": [
      "Requirement already satisfied: boto3 in /usr/local/lib/python3.6/site-packages (1.20.13)\n",
      "Requirement already satisfied: jmespath<1.0.0,>=0.7.1 in /usr/local/lib/python3.6/site-packages (from boto3) (0.10.0)\n",
      "Requirement already satisfied: botocore<1.24.0,>=1.23.13 in /usr/local/lib/python3.6/site-packages (from boto3) (1.23.13)\n",
      "Requirement already satisfied: s3transfer<0.6.0,>=0.5.0 in /usr/local/lib/python3.6/site-packages (from boto3) (0.5.0)\n",
      "Requirement already satisfied: python-dateutil<3.0.0,>=2.1 in /usr/local/lib/python3.6/site-packages (from botocore<1.24.0,>=1.23.13->boto3) (2.8.2)\n",
      "Requirement already satisfied: urllib3<1.27,>=1.25.4 in /usr/local/lib/python3.6/site-packages (from botocore<1.24.0,>=1.23.13->boto3) (1.26.7)\n",
      "Requirement already satisfied: six>=1.5 in /usr/local/lib/python3.6/site-packages (from python-dateutil<3.0.0,>=2.1->botocore<1.24.0,>=1.23.13->boto3) (1.16.0)\n",
      "\u001b[33mWARNING: You are using pip version 21.0.1; however, version 21.3.1 is available.\n",
      "You should consider upgrading via the '/usr/local/bin/python -m pip install --upgrade pip' command.\u001b[0m\n",
      "Collecting sagemaker\n",
      "  Downloading sagemaker-2.69.0.tar.gz (452 kB)\n",
      "\u001b[K     |████████████████████████████████| 452 kB 23.9 MB/s eta 0:00:01\n",
      "\u001b[?25hCollecting attrs\n",
      "  Using cached attrs-21.2.0-py2.py3-none-any.whl (53 kB)\n",
      "Requirement already satisfied: boto3>=1.16.32 in /usr/local/lib/python3.6/site-packages (from sagemaker) (1.20.13)\n",
      "Collecting google-pasta\n",
      "  Downloading google_pasta-0.2.0-py3-none-any.whl (57 kB)\n",
      "\u001b[K     |████████████████████████████████| 57 kB 1.3 MB/s  eta 0:00:01\n",
      "\u001b[?25hCollecting numpy>=1.9.0\n",
      "  Using cached numpy-1.19.5-cp36-cp36m-manylinux2010_x86_64.whl (14.8 MB)\n",
      "Collecting protobuf>=3.1\n",
      "  Downloading protobuf-3.19.1-cp36-cp36m-manylinux_2_17_x86_64.manylinux2014_x86_64.whl (1.1 MB)\n",
      "\u001b[K     |████████████████████████████████| 1.1 MB 71.6 MB/s eta 0:00:01\n",
      "\u001b[?25hCollecting protobuf3-to-dict>=0.1.5\n",
      "  Downloading protobuf3-to-dict-0.1.5.tar.gz (3.5 kB)\n",
      "Collecting smdebug_rulesconfig==1.0.1\n",
      "  Downloading smdebug_rulesconfig-1.0.1-py2.py3-none-any.whl (20 kB)\n",
      "Collecting importlib-metadata>=1.4.0\n",
      "  Downloading importlib_metadata-4.8.2-py3-none-any.whl (17 kB)\n",
      "Collecting packaging>=20.0\n",
      "  Downloading packaging-21.3-py3-none-any.whl (40 kB)\n",
      "\u001b[K     |████████████████████████████████| 40 kB 1.2 MB/s  eta 0:00:01\n",
      "\u001b[?25hCollecting pandas\n",
      "  Using cached pandas-1.1.5-cp36-cp36m-manylinux1_x86_64.whl (9.5 MB)\n",
      "Collecting pathos\n",
      "  Using cached pathos-0.2.8-py2.py3-none-any.whl (81 kB)\n",
      "Requirement already satisfied: jmespath<1.0.0,>=0.7.1 in /usr/local/lib/python3.6/site-packages (from boto3>=1.16.32->sagemaker) (0.10.0)\n",
      "Requirement already satisfied: botocore<1.24.0,>=1.23.13 in /usr/local/lib/python3.6/site-packages (from boto3>=1.16.32->sagemaker) (1.23.13)\n",
      "Requirement already satisfied: s3transfer<0.6.0,>=0.5.0 in /usr/local/lib/python3.6/site-packages (from boto3>=1.16.32->sagemaker) (0.5.0)\n",
      "Requirement already satisfied: urllib3<1.27,>=1.25.4 in /usr/local/lib/python3.6/site-packages (from botocore<1.24.0,>=1.23.13->boto3>=1.16.32->sagemaker) (1.26.7)\n",
      "Requirement already satisfied: python-dateutil<3.0.0,>=2.1 in /usr/local/lib/python3.6/site-packages (from botocore<1.24.0,>=1.23.13->boto3>=1.16.32->sagemaker) (2.8.2)\n",
      "Collecting zipp>=0.5\n",
      "  Downloading zipp-3.6.0-py3-none-any.whl (5.3 kB)\n",
      "Collecting typing-extensions>=3.6.4\n",
      "  Using cached typing_extensions-4.0.0-py3-none-any.whl (22 kB)\n",
      "Collecting pyparsing!=3.0.5,>=2.0.2\n",
      "  Using cached pyparsing-3.0.6-py3-none-any.whl (97 kB)\n",
      "Requirement already satisfied: six in /usr/local/lib/python3.6/site-packages (from protobuf3-to-dict>=0.1.5->sagemaker) (1.16.0)\n",
      "Collecting pytz>=2017.2\n",
      "  Using cached pytz-2021.3-py2.py3-none-any.whl (503 kB)\n",
      "Collecting pox>=0.3.0\n",
      "  Using cached pox-0.3.0-py2.py3-none-any.whl (30 kB)\n",
      "Collecting dill>=0.3.4\n",
      "  Using cached dill-0.3.4-py2.py3-none-any.whl (86 kB)\n",
      "Collecting multiprocess>=0.70.12\n",
      "  Using cached multiprocess-0.70.12.2-py36-none-any.whl (106 kB)\n",
      "Collecting ppft>=1.6.6.4\n",
      "  Using cached ppft-1.6.6.4-py3-none-any.whl (65 kB)\n",
      "Building wheels for collected packages: sagemaker, protobuf3-to-dict\n",
      "  Building wheel for sagemaker (setup.py) ... \u001b[?25ldone\n",
      "\u001b[?25h  Created wheel for sagemaker: filename=sagemaker-2.69.0-py2.py3-none-any.whl size=625707 sha256=887674bb73dd204b1bd2ea9b3d642b16def6cb1b48d819a891debb40d77ea49e\n",
      "  Stored in directory: /root/.cache/pip/wheels/f4/2c/36/3ab4164cdc3413eb82504df7915934940baa5aa7fac923dc0f\n",
      "  Building wheel for protobuf3-to-dict (setup.py) ... \u001b[?25ldone\n",
      "\u001b[?25h  Created wheel for protobuf3-to-dict: filename=protobuf3_to_dict-0.1.5-py3-none-any.whl size=4029 sha256=2ca254f54ce5c9a6b63a2f15b5a3e0bace23f0c75313b18473c2aef9eae4f791\n",
      "  Stored in directory: /root/.cache/pip/wheels/99/78/43/1e2c6b0edf0811e83d4da1dc8d747dc4a6358ec03369cbc1f5\n",
      "Successfully built sagemaker protobuf3-to-dict\n",
      "Installing collected packages: dill, zipp, typing-extensions, pytz, pyparsing, protobuf, ppft, pox, numpy, multiprocess, smdebug-rulesconfig, protobuf3-to-dict, pathos, pandas, packaging, importlib-metadata, google-pasta, attrs, sagemaker\n",
      "Successfully installed attrs-21.2.0 dill-0.3.4 google-pasta-0.2.0 importlib-metadata-4.8.2 multiprocess-0.70.12.2 numpy-1.19.5 packaging-21.3 pandas-1.1.5 pathos-0.2.8 pox-0.3.0 ppft-1.6.6.4 protobuf-3.19.1 protobuf3-to-dict-0.1.5 pyparsing-3.0.6 pytz-2021.3 sagemaker-2.69.0 smdebug-rulesconfig-1.0.1 typing-extensions-4.0.0 zipp-3.6.0\n",
      "\u001b[33mWARNING: You are using pip version 21.0.1; however, version 21.3.1 is available.\n",
      "You should consider upgrading via the '/usr/local/bin/python -m pip install --upgrade pip' command.\u001b[0m\n"
     ]
    }
   ],
   "source": [
    "!pip install boto3\n",
    "!pip install sagemaker"
   ]
  },
  {
   "cell_type": "code",
   "execution_count": 6,
   "metadata": {},
   "outputs": [],
   "source": [
    "import boto3\n",
    "import sagemaker\n",
    "import random\n",
    "import json\n",
    "import time\n",
    "import os\n",
    "import shutil\n",
    "import logging\n",
    "import sys\n",
    "logging.basicConfig(format='%(asctime)s | %(levelname)s : %(message)s',\n",
    "                     level=logging.INFO, stream=sys.stdout)\n",
    "log = logging.getLogger('knowledge-graph-logger')\n",
    "\n",
    "s3 = boto3.client('s3')"
   ]
  },
  {
   "cell_type": "markdown",
   "metadata": {},
   "source": [
    "IMPORTANT:<br>\n",
    "\n",
    "Make sure before you start executing this notebook that the execution role you've configured for your notebook or studio instance has the following permissions:\n",
    "- read/write permission to your S3 buckets\n",
    "- IAM permission to create the policy/role\n",
    "- SNS permission to create a SNS topic\n",
    "- permissions to invoke Amazon Rekognition, Amazon Comprehend, Amazon Transcribe APIs (e.g. AmazonRekognitionFullAccess, ComprehendFullAccess, AmazonTranscribeFullAccess)\n",
    "\n",
    "You'll get \"AuthorizationErrorException\" messages otherwise.\n",
    "\n",
    "The below cell will list all managed iam policies associated with your sagemaker execution role. Check that it has the required permission before proceeding. Note that this cell will not run if your sagemaker execution role doesn't have the required IAM rights."
   ]
  },
  {
   "cell_type": "code",
   "execution_count": 7,
   "metadata": {},
   "outputs": [
    {
     "name": "stdout",
     "output_type": "stream",
     "text": [
      "sagemaker role name:Sagemaker \n",
      "\n",
      "{'PolicyName': 'IAMFullAccess', 'PolicyArn': 'arn:aws:iam::aws:policy/IAMFullAccess'}\n",
      "{'PolicyName': 'AmazonEC2ContainerRegistryFullAccess', 'PolicyArn': 'arn:aws:iam::aws:policy/AmazonEC2ContainerRegistryFullAccess'}\n",
      "{'PolicyName': 'AmazonS3FullAccess', 'PolicyArn': 'arn:aws:iam::aws:policy/AmazonS3FullAccess'}\n",
      "{'PolicyName': 'CloudWatchFullAccess', 'PolicyArn': 'arn:aws:iam::aws:policy/CloudWatchFullAccess'}\n",
      "{'PolicyName': 'AmazonTranscribeFullAccess', 'PolicyArn': 'arn:aws:iam::aws:policy/AmazonTranscribeFullAccess'}\n",
      "{'PolicyName': 'ComprehendFullAccess', 'PolicyArn': 'arn:aws:iam::aws:policy/ComprehendFullAccess'}\n",
      "{'PolicyName': 'AmazonRekognitionFullAccess', 'PolicyArn': 'arn:aws:iam::aws:policy/AmazonRekognitionFullAccess'}\n",
      "{'PolicyName': 'AmazonPersonalizeFullAccess', 'PolicyArn': 'arn:aws:iam::aws:policy/service-role/AmazonPersonalizeFullAccess'}\n",
      "{'PolicyName': 'AmazonEC2ContainerServiceFullAccess', 'PolicyArn': 'arn:aws:iam::aws:policy/AmazonEC2ContainerServiceFullAccess'}\n",
      "{'PolicyName': 'AmazonSageMakerFullAccess', 'PolicyArn': 'arn:aws:iam::aws:policy/AmazonSageMakerFullAccess'}\n"
     ]
    }
   ],
   "source": [
    "iam = boto3.client(\"iam\")\n",
    "\n",
    "#get sagemaker execution role Arn\n",
    "sagemaker_role = sagemaker.get_execution_role()\n",
    "\n",
    "#get the role's name\n",
    "sagemaker_role_name = sagemaker_role.split('/')[-1]\n",
    "\n",
    "print(f'sagemaker role name:{sagemaker_role_name} \\n')\n",
    "\n",
    "#retrieve associated managed iam policies\n",
    "paginator = iam.list_attached_role_policies(RoleName=sagemaker_role_name)\n",
    "\n",
    "#listing\n",
    "for policy in paginator['AttachedPolicies']:\n",
    "    print(policy)"
   ]
  },
  {
   "cell_type": "markdown",
   "metadata": {},
   "source": [
    "### SNS topic creation\n",
    "We're creating a simple topic that will later be used by Amazon Rekognition notably to publish the outcome/status of the video analysis jobs."
   ]
  },
  {
   "cell_type": "code",
   "execution_count": 8,
   "metadata": {},
   "outputs": [
    {
     "name": "stdout",
     "output_type": "stream",
     "text": [
      "arn:aws:sns:ap-southeast-2:327216439222:knowledge-graph-lab-rek-sns-topic\n"
     ]
    }
   ],
   "source": [
    "sns = boto3.client('sns')\n",
    "\n",
    "def create_sns_topic(name):\n",
    "    try:\n",
    "        topic = sns.create_topic(Name=name)\n",
    "    except:\n",
    "        log.exception(\"Couldn't create topic %s.\", name)\n",
    "        raise\n",
    "    else:\n",
    "        return topic['TopicArn']\n",
    "    \n",
    "sns_topic_arn = create_sns_topic('knowledge-graph-lab-rek-sns-topic')\n",
    "\n",
    "print(sns_topic_arn)"
   ]
  },
  {
   "cell_type": "markdown",
   "metadata": {},
   "source": [
    "### S3 bucket creation"
   ]
  },
  {
   "cell_type": "markdown",
   "metadata": {},
   "source": [
    "Amazon S3 bucket names are globally unique. To create a unique bucket name, we're appending your account ID and a random int at the end of the bucket name."
   ]
  },
  {
   "cell_type": "code",
   "execution_count": 9,
   "metadata": {},
   "outputs": [
    {
     "name": "stdout",
     "output_type": "stream",
     "text": [
      "2021-11-26 07:34:36,009 | INFO : bucket name: sagemaker-knowledge-graph-ap-southeast-2-327216439222-43300\n"
     ]
    },
    {
     "data": {
      "text/plain": [
       "{'ResponseMetadata': {'RequestId': 'YJP433MY0ZQ0PT8H',\n",
       "  'HostId': 'r/LAhaJ3nBrc7Z6HQgx5JO26dpOgx0gMM52Uh44nMrkq+zxugAuQjkrvqsfQjiFBYqio/LNxK3o=',\n",
       "  'HTTPStatusCode': 200,\n",
       "  'HTTPHeaders': {'x-amz-id-2': 'r/LAhaJ3nBrc7Z6HQgx5JO26dpOgx0gMM52Uh44nMrkq+zxugAuQjkrvqsfQjiFBYqio/LNxK3o=',\n",
       "   'x-amz-request-id': 'YJP433MY0ZQ0PT8H',\n",
       "   'date': 'Fri, 26 Nov 2021 07:34:37 GMT',\n",
       "   'location': 'http://sagemaker-knowledge-graph-ap-southeast-2-327216439222-43300.s3.amazonaws.com/',\n",
       "   'server': 'AmazonS3',\n",
       "   'content-length': '0'},\n",
       "  'RetryAttempts': 0},\n",
       " 'Location': 'http://sagemaker-knowledge-graph-ap-southeast-2-327216439222-43300.s3.amazonaws.com/'}"
      ]
     },
     "execution_count": 9,
     "metadata": {},
     "output_type": "execute_result"
    }
   ],
   "source": [
    "region = 'ap-southeast-2' #specify the region of your choice\n",
    "\n",
    "#retrieving your account ID\n",
    "account_id = boto3.client('sts').get_caller_identity().get('Account')\n",
    "\n",
    "#bucket name\n",
    "bucket = 'sagemaker-knowledge-graph-' + region + '-' + account_id + '-' + str(random.randint(0,100000))\n",
    "\n",
    "log.info(f'bucket name: {bucket}')\n",
    "\n",
    "#create the bucket\n",
    "s3.create_bucket(\n",
    "        Bucket=bucket,\n",
    "        CreateBucketConfiguration={'LocationConstraint': region}\n",
    "        )"
   ]
  },
  {
   "cell_type": "markdown",
   "metadata": {},
   "source": [
    "Creating the bucket"
   ]
  },
  {
   "cell_type": "markdown",
   "metadata": {},
   "source": [
    "### Create IAM policy\n",
    "Amazon Rekognition, Transcribe and Comprehend will need to be able to read the contents of your S3 bucket. So add a bucket policy which allows that."
   ]
  },
  {
   "cell_type": "code",
   "execution_count": 10,
   "metadata": {},
   "outputs": [],
   "source": [
    "s3_bucket_policy = {\n",
    "    \"Version\": \"2012-10-17\",\n",
    "    \"Id\": \"KnowledgeGraphS3BucketAccessPolicy\",\n",
    "    \"Statement\": [\n",
    "        {\n",
    "            \"Sid\": \"KnowledgeGraphS3BucketAccessPolicy\",\n",
    "            \"Effect\": \"Allow\",\n",
    "            \"Principal\": {\n",
    "                \"Service\": \"rekognition.amazonaws.com\",\n",
    "                \"Service\": \"transcribe.amazonaws.com\",\n",
    "                \"Service\": \"comprehend.amazonaws.com\"\n",
    "            },\n",
    "            \"Action\": [\n",
    "                \"s3:GetObject\",\n",
    "                \"s3:ListBucket\",\n",
    "                \"s3:PutObject\"\n",
    "            ],\n",
    "            \"Resource\": [\n",
    "                \"arn:aws:s3:::{}\".format(bucket),\n",
    "                \"arn:aws:s3:::{}/*\".format(bucket)\n",
    "            ]\n",
    "        }\n",
    "    ]\n",
    "}\n",
    "\n",
    "s3.put_bucket_policy(Bucket=bucket, Policy=json.dumps(s3_bucket_policy));"
   ]
  },
  {
   "cell_type": "markdown",
   "metadata": {},
   "source": [
    "### IAM Role creation"
   ]
  },
  {
   "cell_type": "markdown",
   "metadata": {},
   "source": [
    "We create the role that Amazon Rekognition, Comprehend, Transcribe will need to run jobs."
   ]
  },
  {
   "cell_type": "code",
   "execution_count": 11,
   "metadata": {},
   "outputs": [
    {
     "name": "stdout",
     "output_type": "stream",
     "text": [
      "IAM Role: arn:aws:iam::327216439222:role/327216439222-knowledgeGraphLab\n"
     ]
    }
   ],
   "source": [
    "role_name = account_id+\"-knowledgeGraphLab\"\n",
    "\n",
    "assume_role_policy_document = {\n",
    "    \"Version\": \"2012-10-17\",\n",
    "    \"Statement\": [\n",
    "        {\n",
    "          \"Effect\": \"Allow\",\n",
    "          \"Principal\": {\n",
    "            \"Service\": \"rekognition.amazonaws.com\",\n",
    "            \"Service\": \"transcribe.amazonaws.com\",\n",
    "            \"Service\": \"comprehend.amazonaws.com\"\n",
    "          },\n",
    "          \"Action\": \"sts:AssumeRole\"\n",
    "        }\n",
    "    ]\n",
    "}\n",
    "\n",
    "try:\n",
    "    create_role_response = iam.create_role(\n",
    "        RoleName = role_name,\n",
    "        AssumeRolePolicyDocument = json.dumps(assume_role_policy_document)\n",
    "    );\n",
    "    \n",
    "except iam.exceptions.EntityAlreadyExistsException as e:\n",
    "    print('Warning: role already exists:', e)\n",
    "    create_role_response = iam.get_role(\n",
    "        RoleName = role_name\n",
    "    );\n",
    "\n",
    "role_arn = create_role_response[\"Role\"][\"Arn\"]\n",
    "\n",
    "# Pause to allow role to be fully consistent\n",
    "time.sleep(10)\n",
    "\n",
    "print('IAM Role: {}'.format(role_arn))"
   ]
  },
  {
   "cell_type": "markdown",
   "metadata": {},
   "source": [
    "<br>\n",
    "We create 2 policies, for S3 and SNS, that we attach to the role we created above.\n"
   ]
  },
  {
   "cell_type": "code",
   "execution_count": 12,
   "metadata": {},
   "outputs": [
    {
     "name": "stdout",
     "output_type": "stream",
     "text": [
      "arn:aws:iam::327216439222:policy/s3AccessForRekCompTrans\n"
     ]
    }
   ],
   "source": [
    "s3_policy = {\n",
    "    \"Version\": \"2012-10-17\",\n",
    "    \"Statement\": [\n",
    "        {\n",
    "            \"Effect\": \"Allow\",\n",
    "            \"Action\": [\n",
    "                \"s3:GetObject\",\n",
    "                \"s3:ListBucket\",\n",
    "                \"s3:PutObject\"\n",
    "            ],\n",
    "            \"Resource\": [\n",
    "                \"arn:aws:s3:::{}\".format(bucket),\n",
    "                \"arn:aws:s3:::{}/*\".format(bucket)\n",
    "            ]\n",
    "        }\n",
    "    ]\n",
    "}\n",
    "\n",
    "#creating the s3 policy\n",
    "s3_policy_response = iam.create_policy(\n",
    "    PolicyName='s3AccessForRekCompTrans',\n",
    "    PolicyDocument=json.dumps(s3_policy),\n",
    ")\n",
    "\n",
    "s3_policy_arn = s3_policy_response['Policy']['Arn']\n",
    "\n",
    "print(s3_policy_arn)"
   ]
  },
  {
   "cell_type": "code",
   "execution_count": 13,
   "metadata": {},
   "outputs": [
    {
     "name": "stdout",
     "output_type": "stream",
     "text": [
      "Response:200\n"
     ]
    }
   ],
   "source": [
    "#attaching the above policy to the role\n",
    "attach_s3_policy_response = iam.attach_role_policy(\n",
    "    RoleName = role_name,\n",
    "    PolicyArn = s3_policy_response['Policy']['Arn'])\n",
    "\n",
    "print('Response:{}'.format(attach_s3_policy_response['ResponseMetadata']['HTTPStatusCode']))"
   ]
  },
  {
   "cell_type": "code",
   "execution_count": 14,
   "metadata": {},
   "outputs": [
    {
     "name": "stdout",
     "output_type": "stream",
     "text": [
      "arn:aws:iam::327216439222:policy/snsAccessForRekognition-755\n"
     ]
    }
   ],
   "source": [
    "sns_policy = {\n",
    "    \"Version\": \"2012-10-17\",\n",
    "    \"Statement\": [\n",
    "        {\n",
    "            \"Action\": [\n",
    "                \"sns:*\"\n",
    "            ],\n",
    "            \"Effect\": \"Allow\",\n",
    "            \"Resource\": sns_topic_arn\n",
    "        }\n",
    "    ]\n",
    "}\n",
    "#creating the sns policy\n",
    "sns_policy_response = iam.create_policy(\n",
    "    PolicyName='snsAccessForRekognition-' + str(random.randint(0,1000)),\n",
    "    PolicyDocument=json.dumps(sns_policy),\n",
    ")\n",
    "\n",
    "sns_policy_arn = sns_policy_response['Policy']['Arn']\n",
    "\n",
    "print(sns_policy_arn)"
   ]
  },
  {
   "cell_type": "code",
   "execution_count": 15,
   "metadata": {},
   "outputs": [
    {
     "name": "stdout",
     "output_type": "stream",
     "text": [
      "Response:200\n"
     ]
    }
   ],
   "source": [
    "#attaching the built-in AmazonSNSFullAccess\n",
    "attach_sns_policy_response = iam.attach_role_policy(\n",
    "    RoleName = role_name,\n",
    "    PolicyArn = sns_policy_arn)\n",
    "\n",
    "print('Response:{}'.format(attach_sns_policy_response['ResponseMetadata']['HTTPStatusCode']))"
   ]
  },
  {
   "cell_type": "markdown",
   "metadata": {},
   "source": [
    "### Uploading the video to the newly created S3 bucket"
   ]
  },
  {
   "cell_type": "markdown",
   "metadata": {},
   "source": [
    "Please specify below the S3 bucket where you've stored the video file you'll use to run the notebooks. Please keep in mind that it needs to be a valid .mp4 and that your sagemaker execution role has access to your S3 bucket. You'll get an access denied exception otherwise."
   ]
  },
  {
   "cell_type": "code",
   "execution_count": 16,
   "metadata": {},
   "outputs": [],
   "source": [
    "#S3 URL where you have uploaded your video\n",
    "your_s3_original_video = 's3://< your s3 bucket>/< path to the .mp4 file>'\n",
    "\n",
    "#extracting video names and prefix\n",
    "your_s3_bucket = your_s3_original_video.split('/')[2]\n",
    "your_s3_prefix = '/'.join(your_s3_original_video.split('/')[3:])\n",
    "video_file = your_s3_original_video.split('/')[-1]\n",
    "video_name = video_file.split('.')[0]"
   ]
  },
  {
   "cell_type": "markdown",
   "metadata": {},
   "source": [
    "Downloading the file locally from the public S3 bucket to your notebook instance and uploading it to the target S3 bucket for processing."
   ]
  },
  {
   "cell_type": "code",
   "execution_count": 17,
   "metadata": {},
   "outputs": [],
   "source": [
    "#creating a temporary folder on your instance to store the video locally.\n",
    "tmp_local_folder = './tmp'\n",
    "if not os.path.exists(tmp_local_folder):\n",
    "    #create folder\n",
    "    os.makedirs(tmp_local_folder)\n",
    "else:\n",
    "    #remove folder and files\n",
    "    shutil.rmtree(tmp_local_folder)\n",
    "    #wait for deletion to finish\n",
    "    while os.path.exists(tmp_local_folder): # check if it exists\n",
    "        pass\n",
    "    #create folder\n",
    "    os.makedirs(tmp_local_folder)"
   ]
  },
  {
   "cell_type": "code",
   "execution_count": 18,
   "metadata": {},
   "outputs": [],
   "source": [
    "#download the file locally\n",
    "s3.download_file(your_s3_bucket, your_s3_prefix, os.path.join(tmp_local_folder, video_file))\n",
    "\n",
    "#upload the video file to the target S3 bucket\n",
    "s3_video_input_path = 'input'\n",
    "s3.upload_file(os.path.join(tmp_local_folder, video_file), bucket, os.path.join(s3_video_input_path, video_file))"
   ]
  },
  {
   "cell_type": "markdown",
   "metadata": {},
   "source": [
    "## Amazon Neptune\n",
    "\n",
    "For part3 of the workshop, you will need to create a Neptune DB cluster. \n",
    "Please follow the below instructions to create your Amazon Neptune cluster. You can either follow the console instructions or automatically deploy your cluster with a cloudformation template. \n",
    "https://docs.aws.amazon.com/neptune/latest/userguide/get-started-create-cluster.html\n",
    "\n",
    "<b>IMPORTANT: please make sure you create a brand new Neptune instance for this workshop as we'll be cleaning it of its content</b>"
   ]
  },
  {
   "cell_type": "markdown",
   "metadata": {},
   "source": [
    "<img src=\"static/neptune-ui.png\" width=\"1000\" />"
   ]
  },
  {
   "cell_type": "markdown",
   "metadata": {},
   "source": [
    "Once the cluster is up and running retrieve the endpoint url and port and update the endpoint variable below."
   ]
  },
  {
   "cell_type": "code",
   "execution_count": 19,
   "metadata": {},
   "outputs": [],
   "source": [
    "your_neptune_endpoint_url = 'wss://<your neptune endpoint>:<port>/gremlin'"
   ]
  },
  {
   "cell_type": "markdown",
   "metadata": {},
   "source": [
    "Defining some variable we'll use later for the different metadata extraction jobs"
   ]
  },
  {
   "cell_type": "code",
   "execution_count": 20,
   "metadata": {},
   "outputs": [
    {
     "name": "stdout",
     "output_type": "stream",
     "text": [
      "Stored 'tmp_local_folder' (str)\n",
      "Stored 'bucket' (str)\n",
      "Stored 's3_video_input_path' (str)\n",
      "Stored 'video_file' (str)\n",
      "Stored 'video_name' (str)\n",
      "Stored 'role_arn' (str)\n",
      "Stored 'role_name' (str)\n",
      "Stored 'sns_topic_arn' (str)\n",
      "Stored 's3_policy_arn' (str)\n",
      "Stored 'sns_policy_arn' (str)\n",
      "Stored 'your_neptune_endpoint_url' (str)\n"
     ]
    }
   ],
   "source": [
    "%store tmp_local_folder\n",
    "%store bucket\n",
    "%store s3_video_input_path\n",
    "%store video_file\n",
    "%store video_name\n",
    "%store role_arn\n",
    "%store role_name\n",
    "%store sns_topic_arn\n",
    "%store s3_policy_arn\n",
    "%store sns_policy_arn\n",
    "%store your_neptune_endpoint_url"
   ]
  },
  {
   "cell_type": "code",
   "execution_count": null,
   "metadata": {},
   "outputs": [],
   "source": []
  },
  {
   "cell_type": "code",
   "execution_count": null,
   "metadata": {},
   "outputs": [],
   "source": []
  }
 ],
 "metadata": {
  "instance_type": "ml.t3.medium",
  "kernelspec": {
   "display_name": "Python 3 (Base Python)",
   "language": "python",
   "name": "python3__SAGEMAKER_INTERNAL__arn:aws:sagemaker:ap-southeast-2:452832661640:image/python-3.6"
  },
  "language_info": {
   "codemirror_mode": {
    "name": "ipython",
    "version": 3
   },
   "file_extension": ".py",
   "mimetype": "text/x-python",
   "name": "python",
   "nbconvert_exporter": "python",
   "pygments_lexer": "ipython3",
   "version": "3.6.13"
  }
 },
 "nbformat": 4,
 "nbformat_minor": 4
}

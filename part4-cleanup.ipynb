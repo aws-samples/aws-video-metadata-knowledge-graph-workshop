{
 "cells": [
  {
   "cell_type": "markdown",
   "metadata": {},
   "source": [
    "# Part 4 - Resources clean up\n",
    "\n",
    "This part of the lab is meant to help you clean up the resources we've created during set up notably.\n",
    "\n",
    "These are the resources that will get deleted by executing this notebook:\n",
    "- SNS policy\n",
    "- SNS topic\n",
    "- S3 bucket policy\n",
    "- S3 policy\n",
    "- the created S3 bucket (not yours) including all its content\n",
    "- IAM role that was used by Rekognition notably\n",
    "\n",
    "<b>IMPORTANT: Please note that the Amazon Neptune GraphDB will NOT be deleted by this notebook. Please delete it if you're not planning to use it in order to not incur costs.</b>"
   ]
  },
  {
   "cell_type": "code",
   "execution_count": 19,
   "metadata": {},
   "outputs": [],
   "source": [
    "import boto3\n",
    "s3 = boto3.client('s3')\n",
    "sns = boto3.client('sns')\n",
    "iam = boto3.client(\"iam\")"
   ]
  },
  {
   "cell_type": "code",
   "execution_count": 20,
   "metadata": {},
   "outputs": [],
   "source": [
    "#load stored variable from lab0 notebook\n",
    "%store -r"
   ]
  },
  {
   "cell_type": "markdown",
   "metadata": {},
   "source": [
    "## SNS Policy deletion"
   ]
  },
  {
   "cell_type": "code",
   "execution_count": 21,
   "metadata": {},
   "outputs": [
    {
     "data": {
      "text/plain": [
       "{'ResponseMetadata': {'RequestId': 'a5c1cd54-3ea2-4703-a2b5-673824162c91',\n",
       "  'HTTPStatusCode': 200,\n",
       "  'HTTPHeaders': {'x-amzn-requestid': 'a5c1cd54-3ea2-4703-a2b5-673824162c91',\n",
       "   'content-type': 'text/xml',\n",
       "   'content-length': '204',\n",
       "   'date': 'Fri, 05 Nov 2021 01:18:45 GMT'},\n",
       "  'RetryAttempts': 0}}"
      ]
     },
     "execution_count": 21,
     "metadata": {},
     "output_type": "execute_result"
    }
   ],
   "source": [
    "#detaching policy from role first\n",
    "iam.detach_role_policy(\n",
    "    RoleName=role_name,\n",
    "    PolicyArn=sns_policy_arn\n",
    ")\n",
    "#deleting the policy\n",
    "iam.delete_policy(PolicyArn=sns_policy_arn)"
   ]
  },
  {
   "cell_type": "markdown",
   "metadata": {},
   "source": [
    "## SNS Topic deletion"
   ]
  },
  {
   "cell_type": "code",
   "execution_count": 22,
   "metadata": {},
   "outputs": [
    {
     "data": {
      "text/plain": [
       "{'ResponseMetadata': {'RequestId': 'a0b40ef1-ba49-5694-b525-570f32ffce53',\n",
       "  'HTTPStatusCode': 200,\n",
       "  'HTTPHeaders': {'x-amzn-requestid': 'a0b40ef1-ba49-5694-b525-570f32ffce53',\n",
       "   'content-type': 'text/xml',\n",
       "   'content-length': '201',\n",
       "   'date': 'Fri, 05 Nov 2021 01:18:46 GMT'},\n",
       "  'RetryAttempts': 0}}"
      ]
     },
     "execution_count": 22,
     "metadata": {},
     "output_type": "execute_result"
    }
   ],
   "source": [
    "sns.delete_topic(TopicArn=sns_topic_arn)"
   ]
  },
  {
   "cell_type": "markdown",
   "metadata": {},
   "source": [
    "## S3 Policy deletion"
   ]
  },
  {
   "cell_type": "code",
   "execution_count": 23,
   "metadata": {},
   "outputs": [
    {
     "data": {
      "text/plain": [
       "{'ResponseMetadata': {'RequestId': '4a07a1ea-c97a-4c7a-af91-a9b4303cc355',\n",
       "  'HTTPStatusCode': 200,\n",
       "  'HTTPHeaders': {'x-amzn-requestid': '4a07a1ea-c97a-4c7a-af91-a9b4303cc355',\n",
       "   'content-type': 'text/xml',\n",
       "   'content-length': '204',\n",
       "   'date': 'Fri, 05 Nov 2021 01:18:46 GMT'},\n",
       "  'RetryAttempts': 0}}"
      ]
     },
     "execution_count": 23,
     "metadata": {},
     "output_type": "execute_result"
    }
   ],
   "source": [
    "#detaching policy from role first\n",
    "iam.detach_role_policy(\n",
    "    RoleName=role_name,\n",
    "    PolicyArn=s3_policy_arn\n",
    ")\n",
    "#deleting the policy\n",
    "iam.delete_policy(PolicyArn=s3_policy_arn)"
   ]
  },
  {
   "cell_type": "markdown",
   "metadata": {},
   "source": [
    "## S3 bucket deletion"
   ]
  },
  {
   "cell_type": "code",
   "execution_count": 31,
   "metadata": {},
   "outputs": [
    {
     "name": "stdout",
     "output_type": "stream",
     "text": [
      "Deleting .write_access_check_file.temp\n",
      "Deleting comprehend-input/video_transcript.csv\n",
      "Deleting comprehend-tm-output/.write_access_check_file.temp\n",
      "Deleting comprehend-tm-output/327216439222-NER-49b61221051ef60042eb6e239f48f688/output/output.tar.gz\n",
      "Deleting comprehend-tm-output/327216439222-TOPICS-b44fd3bc0a11f815013430140510e71c/output/output.tar.gz\n",
      "Deleting transcribe_job_knowledge_graph87163.json\n"
     ]
    }
   ],
   "source": [
    "#deleting all files within the input folder in the bucket\n",
    "response = s3.list_objects_v2(Bucket=bucket)\n",
    "for object in response['Contents']:\n",
    "    print('Deleting', object['Key'])\n",
    "    s3.delete_object(Bucket=bucket, Key=object['Key'])"
   ]
  },
  {
   "cell_type": "code",
   "execution_count": 32,
   "metadata": {},
   "outputs": [
    {
     "data": {
      "text/plain": [
       "{'ResponseMetadata': {'RequestId': '5PND167VY8Q5XSM6',\n",
       "  'HostId': 'BiCMg8KH4zQ5QVTAUDHZbiWncBoWB1aer2NJOklff/VVNhHCPeYJWFVwtKAI8krc2TZMECTE+pY=',\n",
       "  'HTTPStatusCode': 204,\n",
       "  'HTTPHeaders': {'x-amz-id-2': 'BiCMg8KH4zQ5QVTAUDHZbiWncBoWB1aer2NJOklff/VVNhHCPeYJWFVwtKAI8krc2TZMECTE+pY=',\n",
       "   'x-amz-request-id': '5PND167VY8Q5XSM6',\n",
       "   'date': 'Fri, 05 Nov 2021 01:20:47 GMT',\n",
       "   'server': 'AmazonS3'},\n",
       "  'RetryAttempts': 0}}"
      ]
     },
     "execution_count": 32,
     "metadata": {},
     "output_type": "execute_result"
    }
   ],
   "source": [
    "#delete the bucket\n",
    "s3.delete_bucket(Bucket=bucket)"
   ]
  },
  {
   "cell_type": "markdown",
   "metadata": {},
   "source": [
    "## Role deletion"
   ]
  },
  {
   "cell_type": "code",
   "execution_count": 33,
   "metadata": {},
   "outputs": [
    {
     "data": {
      "text/plain": [
       "{'ResponseMetadata': {'RequestId': 'b3c00a86-450a-4a31-b913-dd400f286ec0',\n",
       "  'HTTPStatusCode': 200,\n",
       "  'HTTPHeaders': {'x-amzn-requestid': 'b3c00a86-450a-4a31-b913-dd400f286ec0',\n",
       "   'content-type': 'text/xml',\n",
       "   'content-length': '200',\n",
       "   'date': 'Fri, 05 Nov 2021 01:20:49 GMT'},\n",
       "  'RetryAttempts': 0}}"
      ]
     },
     "execution_count": 33,
     "metadata": {},
     "output_type": "execute_result"
    }
   ],
   "source": [
    "#delete role\n",
    "iam.delete_role(RoleName=role_name)"
   ]
  },
  {
   "cell_type": "code",
   "execution_count": null,
   "metadata": {},
   "outputs": [],
   "source": []
  },
  {
   "cell_type": "code",
   "execution_count": null,
   "metadata": {},
   "outputs": [],
   "source": []
  }
 ],
 "metadata": {
  "instance_type": "ml.t3.medium",
  "kernelspec": {
   "display_name": "Python 3 (Data Science)",
   "language": "python",
   "name": "python3__SAGEMAKER_INTERNAL__arn:aws:sagemaker:ap-southeast-2:452832661640:image/datascience-1.0"
  },
  "language_info": {
   "codemirror_mode": {
    "name": "ipython",
    "version": 3
   },
   "file_extension": ".py",
   "mimetype": "text/x-python",
   "name": "python",
   "nbconvert_exporter": "python",
   "pygments_lexer": "ipython3",
   "version": "3.7.10"
  }
 },
 "nbformat": 4,
 "nbformat_minor": 5
}

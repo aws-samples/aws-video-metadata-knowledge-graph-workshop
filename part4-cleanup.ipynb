{
 "cells": [
  {
   "cell_type": "markdown",
   "metadata": {},
   "source": [
    "# Part 4 - Resources clean up\n",
    "\n",
    "This part of the lab is meant to help you clean up the resources we've created during set up notably.\n",
    "\n",
    "These are the resources that will get deleted by executing this notebook:\n",
    "- SNS policy\n",
    "- SNS topic\n",
    "- S3 bucket policy\n",
    "- S3 policy\n",
    "- the created S3 bucket (not yours) including all its content\n",
    "- IAM role that was used by Rekognition notably\n",
    "\n",
    "<b>IMPORTANT: Please note that the Amazon Neptune GraphDB and the notebook instance you're using to run this code will NOT be deleted by this notebook. Please delete them if you're not planning to use it in order to not incur additional costs.</b>"
   ]
  },
  {
   "cell_type": "code",
   "execution_count": 1,
   "metadata": {},
   "outputs": [],
   "source": [
    "import boto3\n",
    "s3 = boto3.client('s3')\n",
    "sns = boto3.client('sns')\n",
    "iam = boto3.client(\"iam\")"
   ]
  },
  {
   "cell_type": "code",
   "execution_count": 2,
   "metadata": {},
   "outputs": [],
   "source": [
    "#load stored variable from lab0 notebook\n",
    "%store -r"
   ]
  },
  {
   "cell_type": "markdown",
   "metadata": {},
   "source": [
    "## SNS Policy deletion"
   ]
  },
  {
   "cell_type": "code",
   "execution_count": 3,
   "metadata": {},
   "outputs": [
    {
     "data": {
      "text/plain": [
       "{'ResponseMetadata': {'RequestId': '96d0fe5e-b1d3-49d0-a464-94015a0d0dad',\n",
       "  'HTTPStatusCode': 200,\n",
       "  'HTTPHeaders': {'x-amzn-requestid': '96d0fe5e-b1d3-49d0-a464-94015a0d0dad',\n",
       "   'content-type': 'text/xml',\n",
       "   'content-length': '204',\n",
       "   'date': 'Fri, 26 Nov 2021 07:32:40 GMT'},\n",
       "  'RetryAttempts': 0}}"
      ]
     },
     "execution_count": 3,
     "metadata": {},
     "output_type": "execute_result"
    }
   ],
   "source": [
    "#detaching policy from role first\n",
    "iam.detach_role_policy(\n",
    "    RoleName=role_name,\n",
    "    PolicyArn=sns_policy_arn\n",
    ")\n",
    "#deleting the policy\n",
    "iam.delete_policy(PolicyArn=sns_policy_arn)"
   ]
  },
  {
   "cell_type": "markdown",
   "metadata": {},
   "source": [
    "## SNS Topic deletion"
   ]
  },
  {
   "cell_type": "code",
   "execution_count": 4,
   "metadata": {},
   "outputs": [
    {
     "data": {
      "text/plain": [
       "{'ResponseMetadata': {'RequestId': 'd4841d3b-d594-5d50-a722-47215a4cd8a4',\n",
       "  'HTTPStatusCode': 200,\n",
       "  'HTTPHeaders': {'x-amzn-requestid': 'd4841d3b-d594-5d50-a722-47215a4cd8a4',\n",
       "   'content-type': 'text/xml',\n",
       "   'content-length': '201',\n",
       "   'date': 'Fri, 26 Nov 2021 07:32:40 GMT'},\n",
       "  'RetryAttempts': 0}}"
      ]
     },
     "execution_count": 4,
     "metadata": {},
     "output_type": "execute_result"
    }
   ],
   "source": [
    "sns.delete_topic(TopicArn=sns_topic_arn)"
   ]
  },
  {
   "cell_type": "markdown",
   "metadata": {},
   "source": [
    "## S3 Policy deletion"
   ]
  },
  {
   "cell_type": "code",
   "execution_count": 5,
   "metadata": {},
   "outputs": [
    {
     "data": {
      "text/plain": [
       "{'ResponseMetadata': {'RequestId': '22290920-93ee-44eb-af9b-dd79e180ac16',\n",
       "  'HTTPStatusCode': 200,\n",
       "  'HTTPHeaders': {'x-amzn-requestid': '22290920-93ee-44eb-af9b-dd79e180ac16',\n",
       "   'content-type': 'text/xml',\n",
       "   'content-length': '204',\n",
       "   'date': 'Fri, 26 Nov 2021 07:32:41 GMT'},\n",
       "  'RetryAttempts': 0}}"
      ]
     },
     "execution_count": 5,
     "metadata": {},
     "output_type": "execute_result"
    }
   ],
   "source": [
    "#detaching policy from role first\n",
    "iam.detach_role_policy(\n",
    "    RoleName=role_name,\n",
    "    PolicyArn=s3_policy_arn\n",
    ")\n",
    "#deleting the policy\n",
    "iam.delete_policy(PolicyArn=s3_policy_arn)"
   ]
  },
  {
   "cell_type": "markdown",
   "metadata": {},
   "source": [
    "## S3 bucket deletion"
   ]
  },
  {
   "cell_type": "code",
   "execution_count": 6,
   "metadata": {},
   "outputs": [
    {
     "name": "stdout",
     "output_type": "stream",
     "text": [
      "Deleting .write_access_check_file.temp\n",
      "Deleting comprehend-input/video_transcript.csv\n",
      "Deleting comprehend-tm-output/.write_access_check_file.temp\n",
      "Deleting comprehend-tm-output/327216439222-NER-5f846a9eb0cb5dcf05b23b3e2b282704/output/output.tar.gz\n",
      "Deleting comprehend-tm-output/327216439222-TOPICS-a99b282d224f05bb973eb7464b9c5b16/output/output.tar.gz\n",
      "Deleting input/video_trailer_4min.mp4\n",
      "Deleting transcribe_job_knowledge_graph93152.json\n"
     ]
    }
   ],
   "source": [
    "#deleting all files within the input folder in the bucket\n",
    "response = s3.list_objects_v2(Bucket=bucket)\n",
    "for object in response['Contents']:\n",
    "    print('Deleting', object['Key'])\n",
    "    s3.delete_object(Bucket=bucket, Key=object['Key'])"
   ]
  },
  {
   "cell_type": "code",
   "execution_count": 7,
   "metadata": {},
   "outputs": [
    {
     "data": {
      "text/plain": [
       "{'ResponseMetadata': {'RequestId': 'A2TZ8GKJNYVSZD6V',\n",
       "  'HostId': 'qtv42R4+EntRPrp5bnZdC4lEho46NgFVzfLosGYL2dPRjS/oXZAywiyjjKoJU0nYYCMPr8Ul3Ig=',\n",
       "  'HTTPStatusCode': 204,\n",
       "  'HTTPHeaders': {'x-amz-id-2': 'qtv42R4+EntRPrp5bnZdC4lEho46NgFVzfLosGYL2dPRjS/oXZAywiyjjKoJU0nYYCMPr8Ul3Ig=',\n",
       "   'x-amz-request-id': 'A2TZ8GKJNYVSZD6V',\n",
       "   'date': 'Fri, 26 Nov 2021 07:32:42 GMT',\n",
       "   'server': 'AmazonS3'},\n",
       "  'RetryAttempts': 0}}"
      ]
     },
     "execution_count": 7,
     "metadata": {},
     "output_type": "execute_result"
    }
   ],
   "source": [
    "#delete the bucket\n",
    "s3.delete_bucket(Bucket=bucket)"
   ]
  },
  {
   "cell_type": "markdown",
   "metadata": {},
   "source": [
    "## Role deletion"
   ]
  },
  {
   "cell_type": "code",
   "execution_count": 8,
   "metadata": {},
   "outputs": [
    {
     "data": {
      "text/plain": [
       "{'ResponseMetadata': {'RequestId': '7946bad2-5fe8-4568-a4fd-78bd6b18f62e',\n",
       "  'HTTPStatusCode': 200,\n",
       "  'HTTPHeaders': {'x-amzn-requestid': '7946bad2-5fe8-4568-a4fd-78bd6b18f62e',\n",
       "   'content-type': 'text/xml',\n",
       "   'content-length': '200',\n",
       "   'date': 'Fri, 26 Nov 2021 07:32:42 GMT'},\n",
       "  'RetryAttempts': 0}}"
      ]
     },
     "execution_count": 8,
     "metadata": {},
     "output_type": "execute_result"
    }
   ],
   "source": [
    "#delete role\n",
    "iam.delete_role(RoleName=role_name)"
   ]
  }
 ],
 "metadata": {
  "instance_type": "ml.t3.medium",
  "kernelspec": {
   "display_name": "Python 3 (Data Science)",
   "language": "python",
   "name": "python3__SAGEMAKER_INTERNAL__arn:aws:sagemaker:ap-southeast-2:452832661640:image/datascience-1.0"
  },
  "language_info": {
   "codemirror_mode": {
    "name": "ipython",
    "version": 3
   },
   "file_extension": ".py",
   "mimetype": "text/x-python",
   "name": "python",
   "nbconvert_exporter": "python",
   "pygments_lexer": "ipython3",
   "version": "3.7.10"
  }
 },
 "nbformat": 4,
 "nbformat_minor": 5
}

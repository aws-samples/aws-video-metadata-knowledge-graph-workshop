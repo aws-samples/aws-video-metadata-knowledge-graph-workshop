{
 "cells": [
  {
   "cell_type": "markdown",
   "metadata": {},
   "source": [
    "# PART 1 - Video metadata extraction with Amazon Rekognition\n",
    "In the follow section of the lab, we're going to extract metadata and labels from the video as well as identify the different scenes from the video, all of that via computer vision methods and more precisely via Amazon Rekognition.</br>\n",
    "</br>\n",
    "Amazon Rekognition is an AWS services that makes it easy to add image and video analysis to your applications using proven, highly scalable, deep learning technology that requires no machine learning expertise to use. With Amazon Rekognition, you can identify objects, people, text, scenes, and activities in images and videos, as well as detect any inappropriate content. Amazon Rekognition also provides highly accurate facial analysis and facial search capabilities that you can use to detect, analyze, and compare faces for a wide variety of user verification, people counting, and public safety use cases.\n",
    "\n",
    "https://docs.aws.amazon.com/rekognition/latest/dg/what-is.html"
   ]
  },
  {
   "cell_type": "code",
   "execution_count": 1,
   "metadata": {},
   "outputs": [],
   "source": [
    "#load stored variable from lab0 notebook\n",
    "%store -r"
   ]
  },
  {
   "cell_type": "code",
   "execution_count": 2,
   "metadata": {},
   "outputs": [],
   "source": [
    "import boto3\n",
    "from botocore.exceptions import ClientError\n",
    "import os\n",
    "import time\n",
    "\n",
    "import logging\n",
    "import sys\n",
    "logging.basicConfig(format='%(asctime)s | %(levelname)s : %(message)s',\n",
    "                     level=logging.INFO, stream=sys.stdout)\n",
    "log = logging.getLogger('knowledge-graph-logger')"
   ]
  },
  {
   "cell_type": "markdown",
   "metadata": {},
   "source": [
    "## Scene detection job\n",
    "\n",
    "Let's start by detecting the different \"scenes\" or \"shots\" from the video. This is notably useful to detect fix/black screens."
   ]
  },
  {
   "cell_type": "markdown",
   "metadata": {},
   "source": [
    "The below function starts a segment detection job with predefined settings for confidence and coverage notably. We're choosing to identify both \"SHOT\" (=scenes) and \"TECHNICAL_CUE\" (e.g. black/fix screen).</br>"
   ]
  },
  {
   "cell_type": "code",
   "execution_count": 3,
   "metadata": {},
   "outputs": [],
   "source": [
    "rek = boto3.client('rekognition')\n",
    "\n",
    "def startSegmentDetection(s3_bucket, name):\n",
    "    min_Technical_Cue_Confidence = 80.0\n",
    "    min_Shot_Confidence = 80.0\n",
    "    max_pixel_threshold = 0.1\n",
    "    min_coverage_percentage = 60\n",
    "\n",
    "    response = rek.start_segment_detection(\n",
    "        Video={\"S3Object\": {\"Bucket\": s3_bucket, \"Name\": name}},\n",
    "        NotificationChannel={\n",
    "            \"RoleArn\": role_arn,\n",
    "            \"SNSTopicArn\": sns_topic_arn,\n",
    "        },\n",
    "        SegmentTypes=[\"TECHNICAL_CUE\", \"SHOT\"],\n",
    "        Filters={\n",
    "            \"TechnicalCueFilter\": {\n",
    "                \"MinSegmentConfidence\": min_Technical_Cue_Confidence,\n",
    "            },\n",
    "            \"ShotFilter\": {\"MinSegmentConfidence\": min_Shot_Confidence},\n",
    "        }\n",
    "    )\n",
    "    return response\n",
    "    \n",
    "segment_detection_job = startSegmentDetection(bucket, os.path.join(s3_video_input_path, video_file))"
   ]
  },
  {
   "cell_type": "code",
   "execution_count": 4,
   "metadata": {},
   "outputs": [
    {
     "name": "stdout",
     "output_type": "stream",
     "text": [
      "Job Id: 3533cce3348f7faf05f5e8c30d0e5f4170239d93f7d48233dc3e10ef9f64ce68\n",
      "..........SUCCEEDED\n"
     ]
    }
   ],
   "source": [
    "segment_detection_job_id = segment_detection_job['JobId']\n",
    "print(f\"Job Id: {segment_detection_job_id}\")\n",
    "\n",
    "#Grab the segment detection response\n",
    "SegmentDetectionOutput = rek.get_segment_detection(\n",
    "    JobId=segment_detection_job_id\n",
    ")\n",
    "\n",
    "#Determine the state. If the job is still processing we will wait a bit and check again\n",
    "while(SegmentDetectionOutput['JobStatus'] == 'IN_PROGRESS'):\n",
    "    time.sleep(5)\n",
    "    print('.', end='')\n",
    " \n",
    "    SegmentDetectionOutput = rek.get_segment_detection(\n",
    "    JobId=segment_detection_job_id)\n",
    "    \n",
    "#Once the job is no longer in progress we will proceed\n",
    "print(SegmentDetectionOutput['JobStatus'])"
   ]
  },
  {
   "cell_type": "markdown",
   "metadata": {},
   "source": [
    "Let's have a look at the output from the job"
   ]
  },
  {
   "cell_type": "code",
   "execution_count": 5,
   "metadata": {},
   "outputs": [
    {
     "data": {
      "text/plain": [
       "[{'Codec': 'h264',\n",
       "  'DurationMillis': 278028,\n",
       "  'Format': 'QuickTime / MOV',\n",
       "  'FrameRate': 23.976024627685547,\n",
       "  'FrameHeight': 1080,\n",
       "  'FrameWidth': 1920,\n",
       "  'ColorRange': 'LIMITED'}]"
      ]
     },
     "execution_count": 5,
     "metadata": {},
     "output_type": "execute_result"
    }
   ],
   "source": [
    "SegmentDetectionOutput['VideoMetadata']"
   ]
  },
  {
   "cell_type": "code",
   "execution_count": 6,
   "metadata": {},
   "outputs": [
    {
     "data": {
      "text/plain": [
       "[{'Codec': 'aac',\n",
       "  'DurationMillis': 278082,\n",
       "  'SampleRate': 44100,\n",
       "  'NumberOfChannels': 2}]"
      ]
     },
     "execution_count": 6,
     "metadata": {},
     "output_type": "execute_result"
    }
   ],
   "source": [
    "SegmentDetectionOutput['AudioMetadata']"
   ]
  },
  {
   "cell_type": "code",
   "execution_count": 7,
   "metadata": {},
   "outputs": [
    {
     "data": {
      "text/plain": [
       "[{'Type': 'TECHNICAL_CUE',\n",
       "  'StartTimestampMillis': 0,\n",
       "  'EndTimestampMillis': 277944,\n",
       "  'DurationMillis': 277944,\n",
       "  'StartTimecodeSMPTE': '00:00:00:00',\n",
       "  'EndTimecodeSMPTE': '00:04:37:16',\n",
       "  'DurationSMPTE': '00:04:37:16',\n",
       "  'TechnicalCueSegment': {'Type': 'Content', 'Confidence': 100.0},\n",
       "  'StartFrameNumber': 0,\n",
       "  'EndFrameNumber': 6664,\n",
       "  'DurationFrames': 6664},\n",
       " {'Type': 'TECHNICAL_CUE',\n",
       "  'StartTimestampMillis': 21980,\n",
       "  'EndTimestampMillis': 26901,\n",
       "  'DurationMillis': 4921,\n",
       "  'StartTimecodeSMPTE': '00:00:21:23',\n",
       "  'EndTimecodeSMPTE': '00:00:26:21',\n",
       "  'DurationSMPTE': '00:00:04:22',\n",
       "  'TechnicalCueSegment': {'Type': 'OpeningCredits', 'Confidence': 100.0},\n",
       "  'StartFrameNumber': 527,\n",
       "  'EndFrameNumber': 645,\n",
       "  'DurationFrames': 118},\n",
       " {'Type': 'TECHNICAL_CUE',\n",
       "  'StartTimestampMillis': 252835,\n",
       "  'EndTimestampMillis': 262595,\n",
       "  'DurationMillis': 9760,\n",
       "  'StartTimecodeSMPTE': '00:04:12:14',\n",
       "  'EndTimecodeSMPTE': '00:04:22:08',\n",
       "  'DurationSMPTE': '00:00:09:18',\n",
       "  'TechnicalCueSegment': {'Type': 'EndCredits', 'Confidence': 100.0},\n",
       "  'StartFrameNumber': 6062,\n",
       "  'EndFrameNumber': 6296,\n",
       "  'DurationFrames': 234},\n",
       " {'Type': 'SHOT',\n",
       "  'StartTimestampMillis': 0,\n",
       "  'EndTimestampMillis': 41,\n",
       "  'DurationMillis': 41,\n",
       "  'StartTimecodeSMPTE': '00:00:00:00',\n",
       "  'EndTimecodeSMPTE': '00:00:00:01',\n",
       "  'DurationSMPTE': '00:00:00:01',\n",
       "  'ShotSegment': {'Index': 0, 'Confidence': 99.71007537841797},\n",
       "  'StartFrameNumber': 0,\n",
       "  'EndFrameNumber': 1,\n",
       "  'DurationFrames': 1},\n",
       " {'Type': 'SHOT',\n",
       "  'StartTimestampMillis': 83,\n",
       "  'EndTimestampMillis': 667,\n",
       "  'DurationMillis': 584,\n",
       "  'StartTimecodeSMPTE': '00:00:00:02',\n",
       "  'EndTimecodeSMPTE': '00:00:00:16',\n",
       "  'DurationSMPTE': '00:00:00:14',\n",
       "  'ShotSegment': {'Index': 1, 'Confidence': 97.25577545166016},\n",
       "  'StartFrameNumber': 2,\n",
       "  'EndFrameNumber': 16,\n",
       "  'DurationFrames': 14}]"
      ]
     },
     "execution_count": 7,
     "metadata": {},
     "output_type": "execute_result"
    }
   ],
   "source": [
    "#picking a random scene. note that it will either be of type TECHNICAL_CUE or SHOT \n",
    "SegmentDetectionOutput['Segments'][:5]"
   ]
  },
  {
   "cell_type": "markdown",
   "metadata": {},
   "source": [
    "Let's park segment detection for the moment. we'll use those metadata in the Neptune related notebook when storing our data into the graph."
   ]
  },
  {
   "cell_type": "markdown",
   "metadata": {},
   "source": [
    "## Label detection in the video\n",
    "We're now using a different functionality of Amazon Rekognition: Label detection.</br>\n",
    "By running this job on the video, Rekognition will automatically labels objects, concepts, scenes, and actions in your images, and provides an associated confidence score."
   ]
  },
  {
   "cell_type": "code",
   "execution_count": 8,
   "metadata": {},
   "outputs": [],
   "source": [
    "#method starting a individual rekognition labeling job\n",
    "def start_label_detection(s3_bucket, name, roleArn, sns_topic_arn):\n",
    "    response = rek.start_label_detection(\n",
    "        Video={\"S3Object\": {\"Bucket\": s3_bucket, \"Name\": name}},\n",
    "        NotificationChannel={\n",
    "            \"RoleArn\": roleArn,\n",
    "            \"SNSTopicArn\": sns_topic_arn,\n",
    "        }\n",
    "    )\n",
    "    return response"
   ]
  },
  {
   "cell_type": "markdown",
   "metadata": {},
   "source": [
    "Launching the label detection job."
   ]
  },
  {
   "cell_type": "code",
   "execution_count": 9,
   "metadata": {},
   "outputs": [],
   "source": [
    "#launching it on our test video.\n",
    "label_detection_response = start_label_detection(bucket, os.path.join(s3_video_input_path, video_file), role_arn, sns_topic_arn)"
   ]
  },
  {
   "cell_type": "markdown",
   "metadata": {},
   "source": [
    "Monitoring when the job is finished"
   ]
  },
  {
   "cell_type": "code",
   "execution_count": 10,
   "metadata": {},
   "outputs": [
    {
     "name": "stdout",
     "output_type": "stream",
     "text": [
      "Job Id: abe2bbca1a852ae8d3dc904652bcc5e15d8686bc2c8fb31fd6ab38dfa0e76e4d\n",
      ".....................SUCCEEDED\n"
     ]
    }
   ],
   "source": [
    "label_detection_job_id = label_detection_response['JobId']\n",
    "print(f\"Job Id: {label_detection_job_id}\")\n",
    "\n",
    "#Grab the segment detection response\n",
    "LabelDetectionOutput = rek.get_label_detection(\n",
    "    JobId=label_detection_job_id\n",
    ")\n",
    "\n",
    "#Determine the state. If the job is still processing we will wait a bit and check again\n",
    "while(LabelDetectionOutput['JobStatus'] == 'IN_PROGRESS'):\n",
    "    time.sleep(5)\n",
    "    print('.', end='')\n",
    " \n",
    "    LabelDetectionOutput = rek.get_label_detection(\n",
    "    JobId=label_detection_job_id)\n",
    "    \n",
    "#Once the job is no longer in progress we will proceed\n",
    "print(LabelDetectionOutput['JobStatus'])"
   ]
  },
  {
   "cell_type": "markdown",
   "metadata": {},
   "source": [
    "Let's have a look at the output from the label detection job"
   ]
  },
  {
   "cell_type": "code",
   "execution_count": 11,
   "metadata": {},
   "outputs": [
    {
     "data": {
      "text/plain": [
       "[{'Timestamp': 0,\n",
       "  'Label': {'Name': 'Apparel',\n",
       "   'Confidence': 89.63540649414062,\n",
       "   'Instances': [],\n",
       "   'Parents': []}},\n",
       " {'Timestamp': 0,\n",
       "  'Label': {'Name': 'Blossom',\n",
       "   'Confidence': 62.90474319458008,\n",
       "   'Instances': [],\n",
       "   'Parents': [{'Name': 'Plant'}]}},\n",
       " {'Timestamp': 0,\n",
       "  'Label': {'Name': 'Clothing',\n",
       "   'Confidence': 89.63540649414062,\n",
       "   'Instances': [],\n",
       "   'Parents': []}},\n",
       " {'Timestamp': 0,\n",
       "  'Label': {'Name': 'Female',\n",
       "   'Confidence': 54.17314910888672,\n",
       "   'Instances': [],\n",
       "   'Parents': [{'Name': 'Person'}]}},\n",
       " {'Timestamp': 0,\n",
       "  'Label': {'Name': 'Flower',\n",
       "   'Confidence': 62.90474319458008,\n",
       "   'Instances': [],\n",
       "   'Parents': [{'Name': 'Plant'}]}}]"
      ]
     },
     "execution_count": 11,
     "metadata": {},
     "output_type": "execute_result"
    }
   ],
   "source": [
    "LabelDetectionOutput['Labels'][:5]"
   ]
  },
  {
   "cell_type": "markdown",
   "metadata": {},
   "source": [
    "Again, let's park the label detection for the moment and export/store the outputs of those 2 jobs so that we can use it in part 3 for when we create our Graph."
   ]
  },
  {
   "cell_type": "code",
   "execution_count": 12,
   "metadata": {},
   "outputs": [
    {
     "name": "stdout",
     "output_type": "stream",
     "text": [
      "Stored 'SegmentDetectionOutput' (dict)\n",
      "Stored 'LabelDetectionOutput' (dict)\n"
     ]
    }
   ],
   "source": [
    "%store SegmentDetectionOutput\n",
    "%store LabelDetectionOutput"
   ]
  },
  {
   "cell_type": "code",
   "execution_count": null,
   "metadata": {},
   "outputs": [],
   "source": []
  }
 ],
 "metadata": {
  "instance_type": "ml.t3.medium",
  "kernelspec": {
   "display_name": "Python 3 (Data Science)",
   "language": "python",
   "name": "python3__SAGEMAKER_INTERNAL__arn:aws:sagemaker:ap-southeast-2:452832661640:image/datascience-1.0"
  },
  "language_info": {
   "codemirror_mode": {
    "name": "ipython",
    "version": 3
   },
   "file_extension": ".py",
   "mimetype": "text/x-python",
   "name": "python",
   "nbconvert_exporter": "python",
   "pygments_lexer": "ipython3",
   "version": "3.7.10"
  }
 },
 "nbformat": 4,
 "nbformat_minor": 4
}
